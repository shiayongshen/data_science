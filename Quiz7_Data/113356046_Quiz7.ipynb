{
 "cells": [
  {
   "cell_type": "markdown",
   "id": "024945ad",
   "metadata": {},
   "source": [
    "## 113356046 夏永紳\n",
    "---"
   ]
  },
  {
   "cell_type": "code",
   "execution_count": 2,
   "id": "ceb430bc",
   "metadata": {},
   "outputs": [],
   "source": [
    "import numpy as np\n",
    "import matplotlib.pyplot as plt\n",
    "import pandas as pd"
   ]
  },
  {
   "cell_type": "markdown",
   "id": "0132cf45",
   "metadata": {},
   "source": [
    "---"
   ]
  },
  {
   "cell_type": "markdown",
   "id": "e665084f",
   "metadata": {},
   "source": [
    "#### Question 1"
   ]
  },
  {
   "cell_type": "code",
   "execution_count": 3,
   "id": "c76f8ced",
   "metadata": {},
   "outputs": [
    {
     "name": "stdout",
     "output_type": "stream",
     "text": [
      "[ 0  1  2  3  4  5  6  7  8  9 10 11 12 13 14 15 16 17 18 19 20 21 22 23\n",
      " 24 25 26 27 28 29 30 31 32 33 34 35]\n"
     ]
    }
   ],
   "source": [
    "A = np.arange(36)\n",
    "print(A)"
   ]
  },
  {
   "cell_type": "markdown",
   "id": "9b0b09fe",
   "metadata": {},
   "source": [
    "#### Question 2"
   ]
  },
  {
   "cell_type": "code",
   "execution_count": 4,
   "id": "743ef00f",
   "metadata": {},
   "outputs": [
    {
     "name": "stdout",
     "output_type": "stream",
     "text": [
      "[ 0  2  4  6  8 10 12 14 16 18 20 22 24 26 28 30 32 34]\n"
     ]
    }
   ],
   "source": [
    "A_even = A[::2]\n",
    "print(A_even)"
   ]
  },
  {
   "cell_type": "markdown",
   "id": "80940155",
   "metadata": {},
   "source": [
    "#### Question 3"
   ]
  },
  {
   "cell_type": "code",
   "execution_count": 5,
   "id": "89bcbb2a",
   "metadata": {},
   "outputs": [
    {
     "name": "stdout",
     "output_type": "stream",
     "text": [
      "[ 0 -1  2 -1  4 -1  6 -1  8 -1 10 -1 12 -1 14 -1 16 -1 18 -1 20 -1 22 -1\n",
      " 24 -1 26 -1 28 -1 30 -1 32 -1 34 -1]\n"
     ]
    }
   ],
   "source": [
    "B = A\n",
    "B[1::2] = -1\n",
    "print(B)\n"
   ]
  },
  {
   "cell_type": "markdown",
   "id": "3679c506",
   "metadata": {},
   "source": [
    "#### Question 4"
   ]
  },
  {
   "cell_type": "code",
   "execution_count": 6,
   "id": "3ac6e6ca",
   "metadata": {},
   "outputs": [
    {
     "name": "stdout",
     "output_type": "stream",
     "text": [
      "[[ 0 -1  2 -1  4 -1]\n",
      " [ 6 -1  8 -1 10 -1]\n",
      " [12 -1 14 -1 16 -1]\n",
      " [18 -1 20 -1 22 -1]\n",
      " [24 -1 26 -1 28 -1]\n",
      " [30 -1 32 -1 34 -1]]\n",
      "[[ 0 -1  2 -1  4 -1]\n",
      " [ 6 -1  8 -1 10 -1]\n",
      " [12 -1 14 -1 16 -1]\n",
      " [18 -1 20 -1 22 -1]\n",
      " [24 -1 26 -1 28 -1]\n",
      " [30 -1 32 -1 34 -1]]\n"
     ]
    }
   ],
   "source": [
    "A = A.reshape(6, 6)\n",
    "B = B.reshape(6, 6)\n",
    "print(A)\n",
    "print(B)"
   ]
  },
  {
   "cell_type": "markdown",
   "id": "919594a3",
   "metadata": {},
   "source": [
    "#### Question 5"
   ]
  },
  {
   "cell_type": "code",
   "execution_count": 7,
   "id": "d6b7108d",
   "metadata": {},
   "outputs": [
    {
     "name": "stdout",
     "output_type": "stream",
     "text": [
      "[[ 0 -1  2 -1  4 -1]\n",
      " [ 6 -1  8 -1 10 -1]\n",
      " [12 -1 14 -1 16 -1]\n",
      " [18 -1 20 -1 22 -1]\n",
      " [24 -1 26 -1 28 -1]\n",
      " [30 -1 32 -1 34 -1]\n",
      " [ 0 -1  2 -1  4 -1]\n",
      " [ 6 -1  8 -1 10 -1]\n",
      " [12 -1 14 -1 16 -1]\n",
      " [18 -1 20 -1 22 -1]\n",
      " [24 -1 26 -1 28 -1]\n",
      " [30 -1 32 -1 34 -1]]\n"
     ]
    }
   ],
   "source": [
    "C = np.vstack((A, B))\n",
    "print(C)"
   ]
  },
  {
   "cell_type": "markdown",
   "id": "4848aaf1",
   "metadata": {},
   "source": [
    "#### Question 6"
   ]
  },
  {
   "cell_type": "code",
   "execution_count": 8,
   "id": "b58a81d6",
   "metadata": {},
   "outputs": [
    {
     "name": "stdout",
     "output_type": "stream",
     "text": [
      "[[ 0 -1  2 -1  4 -1  0 -1  2 -1  4 -1]\n",
      " [ 6 -1  8 -1 10 -1  6 -1  8 -1 10 -1]\n",
      " [12 -1 14 -1 16 -1 12 -1 14 -1 16 -1]\n",
      " [18 -1 20 -1 22 -1 18 -1 20 -1 22 -1]\n",
      " [24 -1 26 -1 28 -1 24 -1 26 -1 28 -1]\n",
      " [30 -1 32 -1 34 -1 30 -1 32 -1 34 -1]]\n"
     ]
    }
   ],
   "source": [
    "D = np.hstack((A, B))\n",
    "print(D)\n"
   ]
  },
  {
   "cell_type": "markdown",
   "id": "a7ff633b",
   "metadata": {},
   "source": [
    "#### Question 7"
   ]
  },
  {
   "cell_type": "code",
   "execution_count": 9,
   "id": "eb54570a",
   "metadata": {},
   "outputs": [
    {
     "name": "stdout",
     "output_type": "stream",
     "text": [
      "[[ 0  6 12 18 24 30]\n",
      " [-1 -1 -1 -1 -1 -1]\n",
      " [ 2  8 14 20 26 32]\n",
      " [-1 -1 -1 -1 -1 -1]\n",
      " [ 4 10 16 22 28 34]\n",
      " [-1 -1 -1 -1 -1 -1]\n",
      " [ 0  6 12 18 24 30]\n",
      " [-1 -1 -1 -1 -1 -1]\n",
      " [ 2  8 14 20 26 32]\n",
      " [-1 -1 -1 -1 -1 -1]\n",
      " [ 4 10 16 22 28 34]\n",
      " [-1 -1 -1 -1 -1 -1]]\n"
     ]
    }
   ],
   "source": [
    "E = D.transpose()\n",
    "print(E)\n"
   ]
  },
  {
   "cell_type": "markdown",
   "id": "383eb0da",
   "metadata": {},
   "source": [
    "#### Question 8"
   ]
  },
  {
   "cell_type": "code",
   "execution_count": null,
   "id": "82aae8f6",
   "metadata": {},
   "outputs": [
    {
     "name": "stdout",
     "output_type": "stream",
     "text": [
      "{'sum': 288, 'mean': 8.0, 'std': 11.61177563223357, 'max': 34, 'min': -1, 'sum_rows': array([ 3, 21, 39, 57, 75, 93]), 'sum_cols': array([ 90,  -6, 102,  -6, 114,  -6])}\n",
      "{'sum': 288, 'mean': 8.0, 'std': 11.61177563223357, 'max': 34, 'min': -1, 'sum_rows': array([ 3, 21, 39, 57, 75, 93]), 'sum_cols': array([ 90,  -6, 102,  -6, 114,  -6])}\n",
      "{'sum': 576, 'mean': 8.0, 'std': 11.61177563223357, 'max': 34, 'min': -1, 'sum_rows': array([ 3, 21, 39, 57, 75, 93,  3, 21, 39, 57, 75, 93]), 'sum_cols': array([180, -12, 204, -12, 228, -12])}\n",
      "{'sum': 576, 'mean': 8.0, 'std': 11.61177563223357, 'max': 34, 'min': -1, 'sum_rows': array([  6,  42,  78, 114, 150, 186]), 'sum_cols': array([ 90,  -6, 102,  -6, 114,  -6,  90,  -6, 102,  -6, 114,  -6])}\n",
      "{'sum': 576, 'mean': 8.0, 'std': 11.61177563223357, 'max': 34, 'min': -1, 'sum_rows': array([ 90,  -6, 102,  -6, 114,  -6,  90,  -6, 102,  -6, 114,  -6]), 'sum_cols': array([  6,  42,  78, 114, 150, 186])}\n"
     ]
    }
   ],
   "source": [
    "def compute_stats(matrix):\n",
    "    stats = {\n",
    "        'sum': np.sum(matrix),\n",
    "        'mean': np.mean(matrix),\n",
    "        'std': np.std(matrix),\n",
    "        'max': np.max(matrix),\n",
    "        'min': np.min(matrix),\n",
    "        'sum_rows': np.sum(matrix, axis=1),\n",
    "        'sum_cols': np.sum(matrix, axis=0)\n",
    "    }\n",
    "    return stats\n",
    "print(compute_stats(A))\n",
    "print(compute_stats(B))\n",
    "print(compute_stats(C))\n",
    "print(compute_stats(D))\n",
    "print(compute_stats(E))"
   ]
  },
  {
   "cell_type": "markdown",
   "id": "4185e3f3",
   "metadata": {},
   "source": [
    "#### Question 9"
   ]
  },
  {
   "cell_type": "code",
   "execution_count": null,
   "id": "6c58d925",
   "metadata": {},
   "outputs": [
    {
     "name": "stdout",
     "output_type": "stream",
     "text": [
      "4\n"
     ]
    }
   ],
   "source": [
    "print(np.max(A, axis=1)[0])\n"
   ]
  },
  {
   "cell_type": "markdown",
   "id": "da9c0e82",
   "metadata": {},
   "source": [
    "#### Question 10"
   ]
  },
  {
   "cell_type": "code",
   "execution_count": 20,
   "id": "7ca1cd9d",
   "metadata": {},
   "outputs": [
    {
     "name": "stdout",
     "output_type": "stream",
     "text": [
      "-1\n"
     ]
    }
   ],
   "source": [
    "print(np.min(B,axis=1)[0])"
   ]
  },
  {
   "cell_type": "markdown",
   "id": "d641e6d5",
   "metadata": {},
   "source": [
    "#### Question 11"
   ]
  },
  {
   "cell_type": "code",
   "execution_count": 22,
   "id": "66b03253",
   "metadata": {},
   "outputs": [
    {
     "name": "stdout",
     "output_type": "stream",
     "text": [
      "0.5\n"
     ]
    }
   ],
   "source": [
    "print(np.mean(C,axis=1)[0])"
   ]
  },
  {
   "cell_type": "markdown",
   "id": "058097df",
   "metadata": {},
   "source": [
    "#### Question 12"
   ]
  },
  {
   "cell_type": "code",
   "execution_count": 23,
   "id": "6ea5e078",
   "metadata": {},
   "outputs": [
    {
     "name": "stdout",
     "output_type": "stream",
     "text": [
      "1.8929694486000912\n"
     ]
    }
   ],
   "source": [
    "print(np.std(D,axis=1)[0])\n"
   ]
  },
  {
   "cell_type": "markdown",
   "id": "7bd39543",
   "metadata": {},
   "source": [
    "#### Question 13"
   ]
  },
  {
   "cell_type": "code",
   "execution_count": 24,
   "id": "2bbcde82",
   "metadata": {},
   "outputs": [
    {
     "name": "stdout",
     "output_type": "stream",
     "text": [
      "10\n"
     ]
    }
   ],
   "source": [
    "print(np.max(A,axis=1)[1])\n"
   ]
  },
  {
   "cell_type": "markdown",
   "id": "a02dd369",
   "metadata": {},
   "source": [
    "#### Question 14"
   ]
  },
  {
   "cell_type": "code",
   "execution_count": 25,
   "id": "59be7b57",
   "metadata": {},
   "outputs": [
    {
     "name": "stdout",
     "output_type": "stream",
     "text": [
      "-1\n"
     ]
    }
   ],
   "source": [
    "print(np.min(B,axis=1)[1])\n"
   ]
  },
  {
   "cell_type": "markdown",
   "id": "3cd0d92f",
   "metadata": {},
   "source": [
    "#### Question 15"
   ]
  },
  {
   "cell_type": "code",
   "execution_count": 26,
   "id": "39f343d3",
   "metadata": {},
   "outputs": [
    {
     "name": "stdout",
     "output_type": "stream",
     "text": [
      "3.5\n"
     ]
    }
   ],
   "source": [
    "print(np.mean(C,axis=1)[1])\n",
    "\n"
   ]
  },
  {
   "cell_type": "markdown",
   "id": "cc6cfaa1",
   "metadata": {},
   "source": [
    "#### Question 16"
   ]
  },
  {
   "cell_type": "code",
   "execution_count": 27,
   "id": "97ace2c5",
   "metadata": {},
   "outputs": [
    {
     "name": "stdout",
     "output_type": "stream",
     "text": [
      "4.645786621588784\n"
     ]
    }
   ],
   "source": [
    "print(np.std(D,axis=1)[1])"
   ]
  },
  {
   "cell_type": "markdown",
   "id": "59c4355c",
   "metadata": {},
   "source": [
    "#### Question 17"
   ]
  },
  {
   "cell_type": "code",
   "execution_count": 28,
   "id": "0766fdc0",
   "metadata": {},
   "outputs": [
    {
     "name": "stdout",
     "output_type": "stream",
     "text": [
      "[[  0   6  18  36  60  90]\n",
      " [ -1  -2  -3  -4  -5  -6]\n",
      " [  2  10  24  44  70 102]\n",
      " [ -1  -2  -3  -4  -5  -6]\n",
      " [  4  14  30  52  80 114]\n",
      " [ -1  -2  -3  -4  -5  -6]\n",
      " [  0   6  18  36  60  90]\n",
      " [ -1  -2  -3  -4  -5  -6]\n",
      " [  2  10  24  44  70 102]\n",
      " [ -1  -2  -3  -4  -5  -6]\n",
      " [  4  14  30  52  80 114]\n",
      " [ -1  -2  -3  -4  -5  -6]]\n"
     ]
    }
   ],
   "source": [
    "print(np.cumsum(E, axis=1))"
   ]
  },
  {
   "cell_type": "markdown",
   "id": "5502bdf3",
   "metadata": {},
   "source": [
    "#### Question 18"
   ]
  },
  {
   "cell_type": "code",
   "execution_count": 29,
   "id": "f13482f1",
   "metadata": {},
   "outputs": [
    {
     "name": "stdout",
     "output_type": "stream",
     "text": [
      "[[  0   6  12  18  24  30]\n",
      " [ -1   5  11  17  23  29]\n",
      " [  1  13  25  37  49  61]\n",
      " [  0  12  24  36  48  60]\n",
      " [  4  22  40  58  76  94]\n",
      " [  3  21  39  57  75  93]\n",
      " [  3  27  51  75  99 123]\n",
      " [  2  26  50  74  98 122]\n",
      " [  4  34  64  94 124 154]\n",
      " [  3  33  63  93 123 153]\n",
      " [  7  43  79 115 151 187]\n",
      " [  6  42  78 114 150 186]]\n"
     ]
    }
   ],
   "source": [
    "print(np.cumsum(E, axis=0))"
   ]
  },
  {
   "cell_type": "markdown",
   "id": "2ea90e79",
   "metadata": {},
   "source": [
    "#### Question 19"
   ]
  },
  {
   "cell_type": "code",
   "execution_count": null,
   "id": "e7a30ce3",
   "metadata": {},
   "outputs": [
    {
     "name": "stdout",
     "output_type": "stream",
     "text": [
      "[[1.91610728 1.47243211 0.989834   0.99754202]\n",
      " [0.41879104 1.38588618 1.53462038 1.34556159]]\n"
     ]
    }
   ],
   "source": [
    "def sum_rows(arr):\n",
    "    return np.sum(arr, axis=1)\n",
    "arr = np.random.rand(2, 3, 4)\n",
    "print(sum_rows(arr))"
   ]
  }
 ],
 "metadata": {
  "kernelspec": {
   "display_name": "combine",
   "language": "python",
   "name": "python3"
  },
  "language_info": {
   "codemirror_mode": {
    "name": "ipython",
    "version": 3
   },
   "file_extension": ".py",
   "mimetype": "text/x-python",
   "name": "python",
   "nbconvert_exporter": "python",
   "pygments_lexer": "ipython3",
   "version": "3.9.18"
  }
 },
 "nbformat": 4,
 "nbformat_minor": 5
}
