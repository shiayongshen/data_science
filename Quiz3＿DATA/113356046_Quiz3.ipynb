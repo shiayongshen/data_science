{
 "cells": [
  {
   "cell_type": "markdown",
   "metadata": {},
   "source": [
    "# 113356046"
   ]
  },
  {
   "cell_type": "markdown",
   "metadata": {},
   "source": [
    "## Import dataset"
   ]
  },
  {
   "cell_type": "code",
   "execution_count": 35,
   "metadata": {},
   "outputs": [],
   "source": [
    "import pandas as pd\n",
    "import warnings\n",
    "warnings.filterwarnings('ignore')\n",
    "clv1 = pd.read_csv('CLV_1.csv')\n",
    "clv2 = pd.read_csv('CLV_2.csv')"
   ]
  },
  {
   "cell_type": "markdown",
   "metadata": {},
   "source": [
    "## Q1"
   ]
  },
  {
   "cell_type": "code",
   "execution_count": null,
   "metadata": {},
   "outputs": [
    {
     "name": "stdout",
     "output_type": "stream",
     "text": [
      "(8099, 10)\n",
      "(8099, 15)\n",
      "8099\n",
      "8099\n"
     ]
    }
   ],
   "source": [
    "print(clv1.shape)\n",
    "print(clv2.shape)\n",
    "print(clv1['CustomerID'].nunique())\n",
    "print(clv2['CustomerID'].nunique())"
   ]
  },
  {
   "cell_type": "markdown",
   "metadata": {},
   "source": [
    "## Q2"
   ]
  },
  {
   "cell_type": "code",
   "execution_count": null,
   "metadata": {},
   "outputs": [
    {
     "name": "stdout",
     "output_type": "stream",
     "text": [
      "8099\n"
     ]
    }
   ],
   "source": [
    "common_ids = clv1['CustomerID'].isin(clv2['CustomerID'])\n",
    "print(common_ids.sum())"
   ]
  },
  {
   "cell_type": "markdown",
   "metadata": {},
   "source": [
    "## Q3"
   ]
  },
  {
   "cell_type": "code",
   "execution_count": null,
   "metadata": {},
   "outputs": [
    {
     "name": "stdout",
     "output_type": "stream",
     "text": [
      "(8099, 24)\n",
      "8099\n"
     ]
    }
   ],
   "source": [
    "m1 = pd.merge(clv1, clv2, on='CustomerID')\n",
    "print(m1.shape)\n",
    "print(m1['CustomerID'].nunique())"
   ]
  },
  {
   "cell_type": "markdown",
   "metadata": {},
   "source": [
    "## Q4"
   ]
  },
  {
   "cell_type": "code",
   "execution_count": null,
   "metadata": {},
   "outputs": [
    {
     "name": "stdout",
     "output_type": "stream",
     "text": [
      "CustomerID                       0\n",
      "State                            0\n",
      "CLV                              0\n",
      "Response                         0\n",
      "Coverage                         0\n",
      "Education                        0\n",
      "EffectiveToDate                  0\n",
      "EmploymentStatus                 0\n",
      "Gender                           0\n",
      "Income                         118\n",
      "LocationCode                     0\n",
      "MaritalStatus                    0\n",
      "MonthlyPremiumAuto               0\n",
      "MonthsSinceLastClaim             0\n",
      "MonthsSincePolicyInception       0\n",
      "NumberofOpenComplaints           0\n",
      "NumberofPolicies                 0\n",
      "PolicyType                       0\n",
      "Policy                        4607\n",
      "RenewOfferType                   0\n",
      "SalesChannel                     0\n",
      "TotalClaimAmount                 0\n",
      "VehicleClass                     0\n",
      "VehicleSize                      0\n",
      "dtype: int64\n"
     ]
    }
   ],
   "source": [
    "print(m1.isnull().sum())    "
   ]
  },
  {
   "cell_type": "markdown",
   "metadata": {},
   "source": [
    "## Q5"
   ]
  },
  {
   "cell_type": "code",
   "execution_count": null,
   "metadata": {},
   "outputs": [
    {
     "name": "stdout",
     "output_type": "stream",
     "text": [
      "(8099, 23)\n",
      "CustomerID                      0\n",
      "State                           0\n",
      "CLV                             0\n",
      "Response                        0\n",
      "Coverage                        0\n",
      "Education                       0\n",
      "EffectiveToDate                 0\n",
      "EmploymentStatus                0\n",
      "Gender                          0\n",
      "Income                        118\n",
      "LocationCode                    0\n",
      "MaritalStatus                   0\n",
      "MonthlyPremiumAuto              0\n",
      "MonthsSinceLastClaim            0\n",
      "MonthsSincePolicyInception      0\n",
      "NumberofOpenComplaints          0\n",
      "NumberofPolicies                0\n",
      "PolicyType                      0\n",
      "RenewOfferType                  0\n",
      "SalesChannel                    0\n",
      "TotalClaimAmount                0\n",
      "VehicleClass                    0\n",
      "VehicleSize                     0\n",
      "dtype: int64\n"
     ]
    }
   ],
   "source": [
    "m2 = m1.loc[:, m1.isnull().sum() <= 1000]\n",
    "print(m2.shape)\n",
    "print(m2.isnull().sum())"
   ]
  },
  {
   "cell_type": "markdown",
   "metadata": {},
   "source": [
    "## Q6"
   ]
  },
  {
   "cell_type": "code",
   "execution_count": 18,
   "metadata": {},
   "outputs": [
    {
     "name": "stdout",
     "output_type": "stream",
     "text": [
      "CustomerID                    0\n",
      "State                         0\n",
      "CLV                           0\n",
      "Response                      0\n",
      "Coverage                      0\n",
      "Education                     0\n",
      "EffectiveToDate               0\n",
      "EmploymentStatus              0\n",
      "Gender                        0\n",
      "Income                        0\n",
      "LocationCode                  0\n",
      "MaritalStatus                 0\n",
      "MonthlyPremiumAuto            0\n",
      "MonthsSinceLastClaim          0\n",
      "MonthsSincePolicyInception    0\n",
      "NumberofOpenComplaints        0\n",
      "NumberofPolicies              0\n",
      "PolicyType                    0\n",
      "RenewOfferType                0\n",
      "SalesChannel                  0\n",
      "TotalClaimAmount              0\n",
      "VehicleClass                  0\n",
      "VehicleSize                   0\n",
      "dtype: int64\n"
     ]
    }
   ],
   "source": [
    "for col in m2.columns:\n",
    "    missing_count = m2[col].isnull().sum()\n",
    "    if 0 < missing_count < 500:\n",
    "        m2[col].fillna(m2[col].mean(), inplace=True)\n",
    "print(m2.isnull().sum())"
   ]
  },
  {
   "cell_type": "markdown",
   "metadata": {},
   "source": [
    "## Q7"
   ]
  },
  {
   "cell_type": "code",
   "execution_count": null,
   "metadata": {},
   "outputs": [
    {
     "name": "stdout",
     "output_type": "stream",
     "text": [
      "CustomerID                    0\n",
      "State                         0\n",
      "CLV                           0\n",
      "Response                      0\n",
      "Coverage                      0\n",
      "Education                     0\n",
      "EffectiveToDate               0\n",
      "EmploymentStatus              0\n",
      "Gender                        0\n",
      "Income                        0\n",
      "LocationCode                  0\n",
      "MaritalStatus                 0\n",
      "MonthlyPremiumAuto            0\n",
      "MonthsSinceLastClaim          0\n",
      "MonthsSincePolicyInception    0\n",
      "NumberofOpenComplaints        0\n",
      "NumberofPolicies              0\n",
      "PolicyType                    0\n",
      "RenewOfferType                0\n",
      "SalesChannel                  0\n",
      "TotalClaimAmount              0\n",
      "VehicleClass                  0\n",
      "VehicleSize                   0\n",
      "dtype: int64\n"
     ]
    }
   ],
   "source": [
    "print(m2.isnull().sum())"
   ]
  },
  {
   "cell_type": "markdown",
   "metadata": {},
   "source": [
    "## Q8"
   ]
  },
  {
   "cell_type": "code",
   "execution_count": 24,
   "metadata": {},
   "outputs": [
    {
     "name": "stdout",
     "output_type": "stream",
     "text": [
      "Insurance cases after 2022-02-01: 3601\n"
     ]
    }
   ],
   "source": [
    "m2['EffectiveToDate_datetime'] = pd.to_datetime(m2['EffectiveToDate'])\n",
    "\n",
    "claims_after_date = m2[m2['EffectiveToDate_datetime'] > pd.Timestamp('2011-02-01')]\n",
    "\n",
    "print(\"Insurance cases after 2022-02-01:\", len(claims_after_date))"
   ]
  },
  {
   "cell_type": "markdown",
   "metadata": {},
   "source": [
    "## Q9"
   ]
  },
  {
   "cell_type": "code",
   "execution_count": null,
   "metadata": {},
   "outputs": [
    {
     "name": "stdout",
     "output_type": "stream",
     "text": [
      "2011-01-01 00:00:00\n",
      "2011-02-28 00:00:00\n",
      "58 days 00:00:00\n"
     ]
    }
   ],
   "source": [
    "print(m2['EffectiveToDate_datetime'].min())\n",
    "print(m2['EffectiveToDate_datetime'].max())\n",
    "print(m2['EffectiveToDate_datetime'].max() - m2['EffectiveToDate_datetime'].min())"
   ]
  },
  {
   "cell_type": "markdown",
   "metadata": {},
   "source": [
    "## Q10"
   ]
  },
  {
   "cell_type": "code",
   "execution_count": null,
   "metadata": {},
   "outputs": [
    {
     "name": "stdout",
     "output_type": "stream",
     "text": [
      "Insurance cases in January 2011: 4359\n",
      "EffectiveToDate_datetime\n",
      "2011-01-10    174\n",
      "2011-01-27    173\n",
      "2011-01-31    164\n",
      "2011-01-03    162\n",
      "2011-01-17    160\n",
      "2011-01-19    158\n",
      "2011-01-05    156\n",
      "2011-01-26    153\n",
      "2011-01-20    152\n",
      "2011-01-29    147\n",
      "2011-01-28    147\n",
      "2011-01-11    146\n",
      "2011-01-18    144\n",
      "2011-01-21    143\n",
      "2011-01-02    142\n",
      "2011-01-23    139\n",
      "2011-01-15    138\n",
      "2011-01-07    134\n",
      "2011-01-25    134\n",
      "2011-01-08    133\n",
      "2011-01-14    133\n",
      "2011-01-01    131\n",
      "2011-01-13    131\n",
      "2011-01-09    128\n",
      "2011-01-30    127\n",
      "2011-01-16    126\n",
      "2011-01-24    125\n",
      "2011-01-06    123\n",
      "2011-01-22    123\n",
      "2011-01-12    113\n",
      "2011-01-04    100\n",
      "Name: count, dtype: int64\n"
     ]
    }
   ],
   "source": [
    "claims_in_jan = m2[(m2['EffectiveToDate_datetime'] >= pd.Timestamp('2011-01-01')) & (m2['EffectiveToDate_datetime'] < pd.Timestamp('2011-02-01'))]\n",
    "print(\"Insurance cases in January 2011:\", len(claims_in_jan))\n",
    "print(claims_in_jan['EffectiveToDate_datetime'].value_counts())"
   ]
  },
  {
   "cell_type": "markdown",
   "metadata": {},
   "source": [
    "## Q11"
   ]
  },
  {
   "cell_type": "code",
   "execution_count": 32,
   "metadata": {},
   "outputs": [
    {
     "name": "stdout",
     "output_type": "stream",
     "text": [
      "一月份統計 Gender 的案件數:\n",
      "Gender\n",
      "F    2213\n",
      "M    2146\n",
      "Name: count, dtype: int64\n",
      "--------\n",
      "一月份統計 Education 的案件數:\n",
      "Education\n",
      "Bachelor                1316\n",
      "High School or Below    1259\n",
      "College                 1254\n",
      "Master                   353\n",
      "Doctor                   177\n",
      "Name: count, dtype: int64\n",
      "--------\n",
      "一月份統計 EmploymentStatus 的案件數:\n",
      "EmploymentStatus\n",
      "Employed         2715\n",
      "Unemployed       1129\n",
      "Medical Leave     194\n",
      "Disabled          187\n",
      "Retired           134\n",
      "Name: count, dtype: int64\n",
      "--------\n",
      "一月份統計 MaritalStatus 的案件數:\n",
      "MaritalStatus\n",
      "Married     2595\n",
      "Single      1154\n",
      "Divorced     610\n",
      "Name: count, dtype: int64\n",
      "--------\n",
      "二月份統計 Gender 的案件數:\n",
      "Gender\n",
      "F    1951\n",
      "M    1789\n",
      "Name: count, dtype: int64\n",
      "--------\n",
      "二月份統計 Education 的案件數:\n",
      "Education\n",
      "College                 1115\n",
      "Bachelor                1114\n",
      "High School or Below    1080\n",
      "Master                   295\n",
      "Doctor                   136\n",
      "Name: count, dtype: int64\n",
      "--------\n",
      "二月份統計 EmploymentStatus 的案件數:\n",
      "EmploymentStatus\n",
      "Employed         2364\n",
      "Unemployed        912\n",
      "Medical Leave     182\n",
      "Disabled          170\n",
      "Retired           112\n",
      "Name: count, dtype: int64\n",
      "--------\n",
      "二月份統計 MaritalStatus 的案件數:\n",
      "MaritalStatus\n",
      "Married     2133\n",
      "Single       999\n",
      "Divorced     608\n",
      "Name: count, dtype: int64\n",
      "--------\n"
     ]
    }
   ],
   "source": [
    "claims_in_jan = m2[(m2['EffectiveToDate_datetime'] >= pd.Timestamp('2011-01-01')) &\n",
    "                   (m2['EffectiveToDate_datetime'] < pd.Timestamp('2011-02-01'))]\n",
    "columns_to_group = ['Gender', 'Education', 'EmploymentStatus', 'MaritalStatus']\n",
    "\n",
    "for col in columns_to_group:\n",
    "    print(f\"一月份統計 {col} 的案件數:\")\n",
    "    print(claims_in_jan[col].value_counts())\n",
    "    print(\"--------\")\n",
    "    \n",
    "claims_in_feb = m2[(m2['EffectiveToDate_datetime'] >= pd.Timestamp('2011-02-01')) &\n",
    "                   (m2['EffectiveToDate_datetime'] < pd.Timestamp('2011-03-01'))]\n",
    "for col in columns_to_group:\n",
    "    print(f\"二月份統計 {col} 的案件數:\")\n",
    "    print(claims_in_feb[col].value_counts())\n",
    "    print(\"--------\")"
   ]
  },
  {
   "cell_type": "markdown",
   "metadata": {},
   "source": [
    "## Q12"
   ]
  },
  {
   "cell_type": "code",
   "execution_count": 37,
   "metadata": {},
   "outputs": [
    {
     "name": "stdout",
     "output_type": "stream",
     "text": [
      "一月份VehicleClass 平均每日案件數:\n",
      "VehicleClass\n",
      "Four-Door Car    71.258065\n",
      "Luxury Car        3.074074\n",
      "Luxury SUV        3.034483\n",
      "SUV              26.129032\n",
      "Sports Car        7.419355\n",
      "Two-Door Car     30.290323\n",
      "Name: counts, dtype: float64\n",
      "--------\n",
      "一月份VehicleSize 平均每日案件數:\n",
      "VehicleSize\n",
      "Large      14.516129\n",
      "Medsize    98.612903\n",
      "Small      27.483871\n",
      "Name: counts, dtype: float64\n",
      "--------\n",
      "二月份VehicleClass 平均每日案件數:\n",
      "VehicleClass\n",
      "Four-Door Car    67.892857\n",
      "Luxury Car        2.480000\n",
      "Luxury SUV        3.000000\n",
      "SUV              26.964286\n",
      "Sports Car        7.357143\n",
      "Two-Door Car     26.357143\n",
      "Name: counts, dtype: float64\n",
      "--------\n",
      "二月份VehicleSize 平均每日案件數:\n",
      "VehicleSize\n",
      "Large      14.035714\n",
      "Medsize    93.357143\n",
      "Small      26.178571\n",
      "Name: counts, dtype: float64\n",
      "--------\n"
     ]
    }
   ],
   "source": [
    "claims_in_jan['Date'] = claims_in_jan['EffectiveToDate_datetime'].dt.floor('d')\n",
    "claims_in_feb['Date'] = claims_in_feb['EffectiveToDate_datetime'].dt.floor('d')\n",
    "\n",
    "columns_to_group = ['VehicleClass', 'VehicleSize']\n",
    "\n",
    "for col in columns_to_group:\n",
    "    daily_counts = claims_in_jan.groupby(['Date', col]).size().reset_index(name='counts')\n",
    "    avg_daily = daily_counts.groupby(col)['counts'].mean()\n",
    "    print(f\"一月份{col} 平均每日案件數:\")\n",
    "    print(avg_daily)\n",
    "    print(\"--------\")\n",
    "for col in columns_to_group:\n",
    "    daily_counts = claims_in_feb.groupby(['Date', col]).size().reset_index(name='counts')\n",
    "    avg_daily = daily_counts.groupby(col)['counts'].mean()\n",
    "    print(f\"二月份{col} 平均每日案件數:\")\n",
    "    print(avg_daily)\n",
    "    print(\"--------\")"
   ]
  }
 ],
 "metadata": {
  "kernelspec": {
   "display_name": "combine",
   "language": "python",
   "name": "python3"
  },
  "language_info": {
   "codemirror_mode": {
    "name": "ipython",
    "version": 3
   },
   "file_extension": ".py",
   "mimetype": "text/x-python",
   "name": "python",
   "nbconvert_exporter": "python",
   "pygments_lexer": "ipython3",
   "version": "3.9.18"
  }
 },
 "nbformat": 4,
 "nbformat_minor": 2
}
