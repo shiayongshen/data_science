{
 "cells": [
  {
   "cell_type": "markdown",
   "metadata": {},
   "source": [
    "# 113356046"
   ]
  },
  {
   "cell_type": "code",
   "execution_count": 3,
   "metadata": {},
   "outputs": [],
   "source": [
    "import pandas as pd\n",
    "pet_store_df = pd.DataFrame({\n",
    "'Animal': ['Dog', 'Cat', 'Parrot', 'Rabbit', 'Fish'],\n",
    "'Price': [300, 200, 150, 100, 50],\n",
    "'Stock': [10, 15, 5, 7, 20],\n",
    "'Needs_Vaccine': [True, True, False, True, False]\n",
    "})"
   ]
  },
  {
   "cell_type": "markdown",
   "metadata": {},
   "source": [
    "# Q1"
   ]
  },
  {
   "cell_type": "markdown",
   "metadata": {},
   "source": [
    "### A. Can use *tuple* to store fixed list"
   ]
  },
  {
   "cell_type": "code",
   "execution_count": null,
   "metadata": {},
   "outputs": [
    {
     "name": "stdout",
     "output_type": "stream",
     "text": [
      "('Dog', 'Cat', 'Parrot', 'Rabbit', 'Fish')\n"
     ]
    }
   ],
   "source": [
    "a = ('Dog', 'Cat', 'Parrot', 'Rabbit', 'Fish')\n",
    "print(a)"
   ]
  },
  {
   "cell_type": "markdown",
   "metadata": {},
   "source": [
    "### B. Can use *set* to prevent duplicates."
   ]
  },
  {
   "cell_type": "code",
   "execution_count": 6,
   "metadata": {},
   "outputs": [
    {
     "name": "stdout",
     "output_type": "stream",
     "text": [
      "{'Marry', 'Vincent', 'Patty'}\n"
     ]
    }
   ],
   "source": [
    "b = {'Marry','Vincent','Vincent','Patty'}\n",
    "print(b)"
   ]
  },
  {
   "cell_type": "markdown",
   "metadata": {},
   "source": [
    "### C. Can use *dict* to maintain a price catalog"
   ]
  },
  {
   "cell_type": "code",
   "execution_count": 9,
   "metadata": {},
   "outputs": [
    {
     "name": "stdout",
     "output_type": "stream",
     "text": [
      "{'dog': 300, 'cat': 200, 'parrot': 150, 'rabbit': 100, 'fish': 50}\n"
     ]
    }
   ],
   "source": [
    "c = {\"dog\":300,\"cat\":200,\"parrot\":150,\"rabbit\":100,\"fish\":50}\n",
    "print(c)"
   ]
  },
  {
   "cell_type": "markdown",
   "metadata": {},
   "source": [
    "# Q2"
   ]
  },
  {
   "cell_type": "code",
   "execution_count": 12,
   "metadata": {},
   "outputs": [
    {
     "name": "stdout",
     "output_type": "stream",
     "text": [
      "Series1:\n",
      "0    1\n",
      "1    2\n",
      "2    3\n",
      "3    4\n",
      "4    5\n",
      "dtype: int64\n",
      "Series2:\n",
      "0     3\n",
      "1     5\n",
      "2     7\n",
      "3     9\n",
      "4    11\n",
      "dtype: int64\n"
     ]
    }
   ],
   "source": [
    "ps1 = pd.Series([1,2,3,4,5])\n",
    "ps2 = pd.Series([3,5,7,9,11])\n",
    "print(f'Series1:\\n{ps1}')\n",
    "print(f'Series2:\\n{ps2}')\n"
   ]
  },
  {
   "cell_type": "markdown",
   "metadata": {},
   "source": [
    "# Q3"
   ]
  },
  {
   "cell_type": "code",
   "execution_count": 14,
   "metadata": {},
   "outputs": [
    {
     "name": "stdout",
     "output_type": "stream",
     "text": [
      "Add result :\n",
      "0     4\n",
      "1     7\n",
      "2    10\n",
      "3    13\n",
      "4    16\n",
      "dtype: int64\n",
      "Substract result :\n",
      "0   -2\n",
      "1   -3\n",
      "2   -4\n",
      "3   -5\n",
      "4   -6\n",
      "dtype: int64\n",
      "Multiple result :\n",
      "0     3\n",
      "1    10\n",
      "2    21\n",
      "3    36\n",
      "4    55\n",
      "dtype: int64\n",
      "Divide result :\n",
      "0    0.333333\n",
      "1    0.400000\n",
      "2    0.428571\n",
      "3    0.444444\n",
      "4    0.454545\n",
      "dtype: float64\n"
     ]
    }
   ],
   "source": [
    "ps_add = ps1 + ps2\n",
    "ps_substract = ps1 - ps2\n",
    "ps_multiple = ps1 * ps2\n",
    "ps_divide = ps1 / ps2\n",
    "print(f'Add result :\\n{ps_add}')\n",
    "print(f'Substract result :\\n{ps_substract}')\n",
    "print(f'Multiple result :\\n{ps_multiple}')\n",
    "print(f'Divide result :\\n{ps_divide}')\n"
   ]
  },
  {
   "cell_type": "markdown",
   "metadata": {},
   "source": [
    "# Q4"
   ]
  },
  {
   "cell_type": "code",
   "execution_count": 15,
   "metadata": {},
   "outputs": [
    {
     "name": "stdout",
     "output_type": "stream",
     "text": [
      "Series 1 to List : [1, 2, 3, 4, 5]\n",
      "Series 2 to List : [3, 5, 7, 9, 11]\n"
     ]
    }
   ],
   "source": [
    "ps1_ls = ps1.to_list()\n",
    "ps2_ls = ps2.to_list()\n",
    "print(f'Series 1 to List : {ps1_ls}')\n",
    "print(f'Series 2 to List : {ps2_ls}')\n"
   ]
  },
  {
   "cell_type": "markdown",
   "metadata": {},
   "source": [
    "# Q5\n"
   ]
  },
  {
   "cell_type": "code",
   "execution_count": 34,
   "metadata": {},
   "outputs": [],
   "source": [
    "import pandas as pd\n",
    "import numpy as np\n",
    "df = pd.DataFrame(np.random.randint(0, 200, size=(100, 6)),\n",
    "columns=list('ABCDEF'))"
   ]
  },
  {
   "cell_type": "markdown",
   "metadata": {},
   "source": [
    "### A"
   ]
  },
  {
   "cell_type": "code",
   "execution_count": 35,
   "metadata": {},
   "outputs": [
    {
     "data": {
      "text/plain": [
       "(100, 6)"
      ]
     },
     "execution_count": 35,
     "metadata": {},
     "output_type": "execute_result"
    }
   ],
   "source": [
    "df.shape"
   ]
  },
  {
   "cell_type": "markdown",
   "metadata": {},
   "source": [
    "### B"
   ]
  },
  {
   "cell_type": "code",
   "execution_count": 36,
   "metadata": {},
   "outputs": [
    {
     "data": {
      "text/html": [
       "<div>\n",
       "<style scoped>\n",
       "    .dataframe tbody tr th:only-of-type {\n",
       "        vertical-align: middle;\n",
       "    }\n",
       "\n",
       "    .dataframe tbody tr th {\n",
       "        vertical-align: top;\n",
       "    }\n",
       "\n",
       "    .dataframe thead th {\n",
       "        text-align: right;\n",
       "    }\n",
       "</style>\n",
       "<table border=\"1\" class=\"dataframe\">\n",
       "  <thead>\n",
       "    <tr style=\"text-align: right;\">\n",
       "      <th></th>\n",
       "      <th>A</th>\n",
       "      <th>B</th>\n",
       "      <th>C</th>\n",
       "      <th>D</th>\n",
       "      <th>E</th>\n",
       "      <th>F</th>\n",
       "    </tr>\n",
       "  </thead>\n",
       "  <tbody>\n",
       "    <tr>\n",
       "      <th>0</th>\n",
       "      <td>87</td>\n",
       "      <td>166</td>\n",
       "      <td>110</td>\n",
       "      <td>189</td>\n",
       "      <td>64</td>\n",
       "      <td>157</td>\n",
       "    </tr>\n",
       "    <tr>\n",
       "      <th>1</th>\n",
       "      <td>58</td>\n",
       "      <td>133</td>\n",
       "      <td>74</td>\n",
       "      <td>13</td>\n",
       "      <td>85</td>\n",
       "      <td>166</td>\n",
       "    </tr>\n",
       "    <tr>\n",
       "      <th>2</th>\n",
       "      <td>65</td>\n",
       "      <td>75</td>\n",
       "      <td>27</td>\n",
       "      <td>174</td>\n",
       "      <td>126</td>\n",
       "      <td>54</td>\n",
       "    </tr>\n",
       "    <tr>\n",
       "      <th>3</th>\n",
       "      <td>132</td>\n",
       "      <td>52</td>\n",
       "      <td>144</td>\n",
       "      <td>83</td>\n",
       "      <td>142</td>\n",
       "      <td>15</td>\n",
       "    </tr>\n",
       "    <tr>\n",
       "      <th>4</th>\n",
       "      <td>128</td>\n",
       "      <td>133</td>\n",
       "      <td>109</td>\n",
       "      <td>81</td>\n",
       "      <td>65</td>\n",
       "      <td>128</td>\n",
       "    </tr>\n",
       "    <tr>\n",
       "      <th>5</th>\n",
       "      <td>45</td>\n",
       "      <td>25</td>\n",
       "      <td>141</td>\n",
       "      <td>154</td>\n",
       "      <td>194</td>\n",
       "      <td>124</td>\n",
       "    </tr>\n",
       "    <tr>\n",
       "      <th>6</th>\n",
       "      <td>137</td>\n",
       "      <td>193</td>\n",
       "      <td>16</td>\n",
       "      <td>196</td>\n",
       "      <td>43</td>\n",
       "      <td>158</td>\n",
       "    </tr>\n",
       "  </tbody>\n",
       "</table>\n",
       "</div>"
      ],
      "text/plain": [
       "     A    B    C    D    E    F\n",
       "0   87  166  110  189   64  157\n",
       "1   58  133   74   13   85  166\n",
       "2   65   75   27  174  126   54\n",
       "3  132   52  144   83  142   15\n",
       "4  128  133  109   81   65  128\n",
       "5   45   25  141  154  194  124\n",
       "6  137  193   16  196   43  158"
      ]
     },
     "execution_count": 36,
     "metadata": {},
     "output_type": "execute_result"
    }
   ],
   "source": [
    "df[:7]"
   ]
  },
  {
   "cell_type": "markdown",
   "metadata": {},
   "source": [
    "### C"
   ]
  },
  {
   "cell_type": "code",
   "execution_count": 37,
   "metadata": {},
   "outputs": [
    {
     "data": {
      "text/html": [
       "<div>\n",
       "<style scoped>\n",
       "    .dataframe tbody tr th:only-of-type {\n",
       "        vertical-align: middle;\n",
       "    }\n",
       "\n",
       "    .dataframe tbody tr th {\n",
       "        vertical-align: top;\n",
       "    }\n",
       "\n",
       "    .dataframe thead th {\n",
       "        text-align: right;\n",
       "    }\n",
       "</style>\n",
       "<table border=\"1\" class=\"dataframe\">\n",
       "  <thead>\n",
       "    <tr style=\"text-align: right;\">\n",
       "      <th></th>\n",
       "      <th>A</th>\n",
       "      <th>B</th>\n",
       "      <th>C</th>\n",
       "      <th>D</th>\n",
       "      <th>E</th>\n",
       "      <th>F</th>\n",
       "    </tr>\n",
       "  </thead>\n",
       "  <tbody>\n",
       "    <tr>\n",
       "      <th>92</th>\n",
       "      <td>177</td>\n",
       "      <td>78</td>\n",
       "      <td>19</td>\n",
       "      <td>57</td>\n",
       "      <td>102</td>\n",
       "      <td>59</td>\n",
       "    </tr>\n",
       "    <tr>\n",
       "      <th>93</th>\n",
       "      <td>63</td>\n",
       "      <td>184</td>\n",
       "      <td>161</td>\n",
       "      <td>78</td>\n",
       "      <td>135</td>\n",
       "      <td>12</td>\n",
       "    </tr>\n",
       "    <tr>\n",
       "      <th>94</th>\n",
       "      <td>36</td>\n",
       "      <td>167</td>\n",
       "      <td>176</td>\n",
       "      <td>18</td>\n",
       "      <td>55</td>\n",
       "      <td>126</td>\n",
       "    </tr>\n",
       "    <tr>\n",
       "      <th>95</th>\n",
       "      <td>69</td>\n",
       "      <td>39</td>\n",
       "      <td>31</td>\n",
       "      <td>92</td>\n",
       "      <td>76</td>\n",
       "      <td>154</td>\n",
       "    </tr>\n",
       "    <tr>\n",
       "      <th>96</th>\n",
       "      <td>41</td>\n",
       "      <td>35</td>\n",
       "      <td>116</td>\n",
       "      <td>57</td>\n",
       "      <td>172</td>\n",
       "      <td>128</td>\n",
       "    </tr>\n",
       "    <tr>\n",
       "      <th>97</th>\n",
       "      <td>88</td>\n",
       "      <td>129</td>\n",
       "      <td>49</td>\n",
       "      <td>51</td>\n",
       "      <td>188</td>\n",
       "      <td>101</td>\n",
       "    </tr>\n",
       "    <tr>\n",
       "      <th>98</th>\n",
       "      <td>22</td>\n",
       "      <td>6</td>\n",
       "      <td>82</td>\n",
       "      <td>110</td>\n",
       "      <td>69</td>\n",
       "      <td>135</td>\n",
       "    </tr>\n",
       "    <tr>\n",
       "      <th>99</th>\n",
       "      <td>67</td>\n",
       "      <td>47</td>\n",
       "      <td>128</td>\n",
       "      <td>96</td>\n",
       "      <td>24</td>\n",
       "      <td>163</td>\n",
       "    </tr>\n",
       "  </tbody>\n",
       "</table>\n",
       "</div>"
      ],
      "text/plain": [
       "      A    B    C    D    E    F\n",
       "92  177   78   19   57  102   59\n",
       "93   63  184  161   78  135   12\n",
       "94   36  167  176   18   55  126\n",
       "95   69   39   31   92   76  154\n",
       "96   41   35  116   57  172  128\n",
       "97   88  129   49   51  188  101\n",
       "98   22    6   82  110   69  135\n",
       "99   67   47  128   96   24  163"
      ]
     },
     "execution_count": 37,
     "metadata": {},
     "output_type": "execute_result"
    }
   ],
   "source": [
    "df[-8:]"
   ]
  },
  {
   "cell_type": "markdown",
   "metadata": {},
   "source": [
    "### D"
   ]
  },
  {
   "cell_type": "code",
   "execution_count": 38,
   "metadata": {},
   "outputs": [
    {
     "name": "stdout",
     "output_type": "stream",
     "text": [
      "Index of Row:RangeIndex(start=0, stop=100, step=1)\n",
      "Column : Index(['A', 'B', 'C', 'D', 'E', 'F'], dtype='object')\n",
      "<class 'pandas.core.frame.DataFrame'>\n",
      "RangeIndex: 100 entries, 0 to 99\n",
      "Data columns (total 6 columns):\n",
      " #   Column  Non-Null Count  Dtype\n",
      "---  ------  --------------  -----\n",
      " 0   A       100 non-null    int64\n",
      " 1   B       100 non-null    int64\n",
      " 2   C       100 non-null    int64\n",
      " 3   D       100 non-null    int64\n",
      " 4   E       100 non-null    int64\n",
      " 5   F       100 non-null    int64\n",
      "dtypes: int64(6)\n",
      "memory usage: 4.8 KB\n",
      "Not missing value count: \n",
      "None\n",
      "Data type : A    int64\n",
      "B    int64\n",
      "C    int64\n",
      "D    int64\n",
      "E    int64\n",
      "F    int64\n",
      "dtype: object\n"
     ]
    }
   ],
   "source": [
    "print(f'Index of Row:{df.index}')\n",
    "print(f'Column : {df.columns}')\n",
    "print(f'Not missing value count: \\n{df.info()}')\n",
    "print(f'Data type : {df.dtypes}')"
   ]
  },
  {
   "cell_type": "markdown",
   "metadata": {},
   "source": [
    "### E"
   ]
  },
  {
   "cell_type": "code",
   "execution_count": 39,
   "metadata": {},
   "outputs": [
    {
     "name": "stdout",
     "output_type": "stream",
     "text": [
      "A's Count : 100.0\n",
      "B's Mean : 104.25\n",
      "C's Std : 54.81596298506302\n",
      "D's Min : 3.0\n",
      "E's Max : 197.0\n",
      "F's 50% : 98.5\n"
     ]
    }
   ],
   "source": [
    "print(f\"A's Count : {df['A'].describe()['count']}\")\n",
    "print(f\"B's Mean : {df['B'].describe()['mean']}\")\n",
    "print(f\"C's Std : {df['C'].describe()['std']}\")\n",
    "print(f\"D's Min : {df['D'].describe()['min']}\")\n",
    "print(f\"E's Max : {df['E'].describe()['max']}\")\n",
    "print(f\"F's 50% : {df['F'].describe()['50%']}\")\n",
    "\n"
   ]
  },
  {
   "cell_type": "markdown",
   "metadata": {},
   "source": [
    "### F"
   ]
  },
  {
   "cell_type": "code",
   "execution_count": 48,
   "metadata": {},
   "outputs": [
    {
     "data": {
      "text/html": [
       "<div>\n",
       "<style scoped>\n",
       "    .dataframe tbody tr th:only-of-type {\n",
       "        vertical-align: middle;\n",
       "    }\n",
       "\n",
       "    .dataframe tbody tr th {\n",
       "        vertical-align: top;\n",
       "    }\n",
       "\n",
       "    .dataframe thead th {\n",
       "        text-align: right;\n",
       "    }\n",
       "</style>\n",
       "<table border=\"1\" class=\"dataframe\">\n",
       "  <thead>\n",
       "    <tr style=\"text-align: right;\">\n",
       "      <th></th>\n",
       "      <th>C</th>\n",
       "      <th>D</th>\n",
       "      <th>E</th>\n",
       "    </tr>\n",
       "  </thead>\n",
       "  <tbody>\n",
       "    <tr>\n",
       "      <th>28</th>\n",
       "      <td>20</td>\n",
       "      <td>3</td>\n",
       "      <td>137</td>\n",
       "    </tr>\n",
       "    <tr>\n",
       "      <th>29</th>\n",
       "      <td>90</td>\n",
       "      <td>162</td>\n",
       "      <td>189</td>\n",
       "    </tr>\n",
       "    <tr>\n",
       "      <th>30</th>\n",
       "      <td>130</td>\n",
       "      <td>57</td>\n",
       "      <td>139</td>\n",
       "    </tr>\n",
       "    <tr>\n",
       "      <th>31</th>\n",
       "      <td>22</td>\n",
       "      <td>4</td>\n",
       "      <td>146</td>\n",
       "    </tr>\n",
       "    <tr>\n",
       "      <th>32</th>\n",
       "      <td>65</td>\n",
       "      <td>153</td>\n",
       "      <td>155</td>\n",
       "    </tr>\n",
       "    <tr>\n",
       "      <th>...</th>\n",
       "      <td>...</td>\n",
       "      <td>...</td>\n",
       "      <td>...</td>\n",
       "    </tr>\n",
       "    <tr>\n",
       "      <th>95</th>\n",
       "      <td>31</td>\n",
       "      <td>92</td>\n",
       "      <td>76</td>\n",
       "    </tr>\n",
       "    <tr>\n",
       "      <th>96</th>\n",
       "      <td>116</td>\n",
       "      <td>57</td>\n",
       "      <td>172</td>\n",
       "    </tr>\n",
       "    <tr>\n",
       "      <th>97</th>\n",
       "      <td>49</td>\n",
       "      <td>51</td>\n",
       "      <td>188</td>\n",
       "    </tr>\n",
       "    <tr>\n",
       "      <th>98</th>\n",
       "      <td>82</td>\n",
       "      <td>110</td>\n",
       "      <td>69</td>\n",
       "    </tr>\n",
       "    <tr>\n",
       "      <th>99</th>\n",
       "      <td>128</td>\n",
       "      <td>96</td>\n",
       "      <td>24</td>\n",
       "    </tr>\n",
       "  </tbody>\n",
       "</table>\n",
       "<p>72 rows × 3 columns</p>\n",
       "</div>"
      ],
      "text/plain": [
       "      C    D    E\n",
       "28   20    3  137\n",
       "29   90  162  189\n",
       "30  130   57  139\n",
       "31   22    4  146\n",
       "32   65  153  155\n",
       "..  ...  ...  ...\n",
       "95   31   92   76\n",
       "96  116   57  172\n",
       "97   49   51  188\n",
       "98   82  110   69\n",
       "99  128   96   24\n",
       "\n",
       "[72 rows x 3 columns]"
      ]
     },
     "execution_count": 48,
     "metadata": {},
     "output_type": "execute_result"
    }
   ],
   "source": [
    "df2 = df.iloc[28:,2:5]\n",
    "df2"
   ]
  },
  {
   "cell_type": "markdown",
   "metadata": {},
   "source": [
    "### G"
   ]
  },
  {
   "cell_type": "code",
   "execution_count": 51,
   "metadata": {},
   "outputs": [
    {
     "name": "stdout",
     "output_type": "stream",
     "text": [
      "row-count * column-count for df2 is 216\n"
     ]
    }
   ],
   "source": [
    "print(f'row-count * column-count for df2 is {df2.size}')"
   ]
  },
  {
   "cell_type": "markdown",
   "metadata": {},
   "source": [
    "### H"
   ]
  },
  {
   "cell_type": "code",
   "execution_count": 54,
   "metadata": {},
   "outputs": [
    {
     "name": "stdout",
     "output_type": "stream",
     "text": [
      "List C: [20, 90, 130, 22, 65, 34, 108, 36, 150, 163, 77, 1, 32, 153, 68, 109, 196, 166, 32, 25, 90, 121, 70, 184, 180, 89, 186, 93, 73, 187, 174, 175, 95, 21, 19, 136, 14, 176, 132, 94, 98, 14, 176, 128, 175, 172, 37, 88, 83, 136, 134, 41, 115, 145, 162, 148, 52, 163, 90, 139, 155, 86, 61, 16, 19, 161, 176, 31, 116, 49, 82, 128]\n"
     ]
    }
   ],
   "source": [
    "print(f\"List C: {df2['C'].to_list()}\")"
   ]
  },
  {
   "cell_type": "markdown",
   "metadata": {},
   "source": [
    "### I"
   ]
  },
  {
   "cell_type": "code",
   "execution_count": null,
   "metadata": {},
   "outputs": [
    {
     "name": "stdout",
     "output_type": "stream",
     "text": [
      "The value distribution of D in df:\n"
     ]
    },
    {
     "data": {
      "text/plain": [
       "count    100.000000\n",
       "mean     103.440000\n",
       "std       57.781777\n",
       "min        3.000000\n",
       "25%       54.250000\n",
       "50%      108.000000\n",
       "75%      153.000000\n",
       "max      197.000000\n",
       "Name: D, dtype: float64"
      ]
     },
     "execution_count": 58,
     "metadata": {},
     "output_type": "execute_result"
    }
   ],
   "source": [
    "print(f'The value distribution of D in df:')\n",
    "df['D'].describe()"
   ]
  },
  {
   "cell_type": "markdown",
   "metadata": {},
   "source": [
    "### J"
   ]
  },
  {
   "cell_type": "code",
   "execution_count": 59,
   "metadata": {},
   "outputs": [
    {
     "name": "stdout",
     "output_type": "stream",
     "text": [
      "A’s descriptive stat. in df:\n"
     ]
    },
    {
     "data": {
      "text/plain": [
       "count    100.000000\n",
       "mean      89.600000\n",
       "std       57.209521\n",
       "min        0.000000\n",
       "25%       47.250000\n",
       "50%       85.000000\n",
       "75%      135.500000\n",
       "max      199.000000\n",
       "Name: A, dtype: float64"
      ]
     },
     "execution_count": 59,
     "metadata": {},
     "output_type": "execute_result"
    }
   ],
   "source": [
    "print(f'A’s descriptive stat. in df:')\n",
    "df['A'].describe()"
   ]
  },
  {
   "cell_type": "markdown",
   "metadata": {},
   "source": [
    "# Q6"
   ]
  },
  {
   "cell_type": "code",
   "execution_count": 68,
   "metadata": {},
   "outputs": [],
   "source": [
    "import pandas as pd\n",
    "fruit_store_df = pd.DataFrame({\n",
    "'Fruit': ['Apple', 'Banana', 'Orange', 'Grapes', 'Mango'],\n",
    "'Price': [30, 20, 25, 40, 50],\n",
    "'Stock': [100, 150, 120, 80, 90],\n",
    "'Supplier': ['Supplier A', 'Supplier B', 'Supplier C', 'Supplier D', 'Supplier E']\n",
    "})"
   ]
  },
  {
   "cell_type": "markdown",
   "metadata": {},
   "source": [
    "### A"
   ]
  },
  {
   "cell_type": "code",
   "execution_count": 63,
   "metadata": {},
   "outputs": [
    {
     "data": {
      "text/html": [
       "<div>\n",
       "<style scoped>\n",
       "    .dataframe tbody tr th:only-of-type {\n",
       "        vertical-align: middle;\n",
       "    }\n",
       "\n",
       "    .dataframe tbody tr th {\n",
       "        vertical-align: top;\n",
       "    }\n",
       "\n",
       "    .dataframe thead th {\n",
       "        text-align: right;\n",
       "    }\n",
       "</style>\n",
       "<table border=\"1\" class=\"dataframe\">\n",
       "  <thead>\n",
       "    <tr style=\"text-align: right;\">\n",
       "      <th></th>\n",
       "      <th>Fruit</th>\n",
       "      <th>Price</th>\n",
       "      <th>Stock</th>\n",
       "    </tr>\n",
       "  </thead>\n",
       "  <tbody>\n",
       "    <tr>\n",
       "      <th>0</th>\n",
       "      <td>Apple</td>\n",
       "      <td>30</td>\n",
       "      <td>100</td>\n",
       "    </tr>\n",
       "    <tr>\n",
       "      <th>1</th>\n",
       "      <td>Banana</td>\n",
       "      <td>20</td>\n",
       "      <td>150</td>\n",
       "    </tr>\n",
       "    <tr>\n",
       "      <th>2</th>\n",
       "      <td>Orange</td>\n",
       "      <td>25</td>\n",
       "      <td>120</td>\n",
       "    </tr>\n",
       "    <tr>\n",
       "      <th>3</th>\n",
       "      <td>Grapes</td>\n",
       "      <td>40</td>\n",
       "      <td>80</td>\n",
       "    </tr>\n",
       "    <tr>\n",
       "      <th>4</th>\n",
       "      <td>Mango</td>\n",
       "      <td>50</td>\n",
       "      <td>90</td>\n",
       "    </tr>\n",
       "  </tbody>\n",
       "</table>\n",
       "</div>"
      ],
      "text/plain": [
       "    Fruit  Price  Stock\n",
       "0   Apple     30    100\n",
       "1  Banana     20    150\n",
       "2  Orange     25    120\n",
       "3  Grapes     40     80\n",
       "4   Mango     50     90"
      ]
     },
     "execution_count": 63,
     "metadata": {},
     "output_type": "execute_result"
    }
   ],
   "source": [
    "fruit_store_df.drop('Supplier',axis=1)"
   ]
  },
  {
   "cell_type": "markdown",
   "metadata": {},
   "source": [
    "### B"
   ]
  },
  {
   "cell_type": "code",
   "execution_count": 65,
   "metadata": {},
   "outputs": [
    {
     "data": {
      "text/html": [
       "<div>\n",
       "<style scoped>\n",
       "    .dataframe tbody tr th:only-of-type {\n",
       "        vertical-align: middle;\n",
       "    }\n",
       "\n",
       "    .dataframe tbody tr th {\n",
       "        vertical-align: top;\n",
       "    }\n",
       "\n",
       "    .dataframe thead th {\n",
       "        text-align: right;\n",
       "    }\n",
       "</style>\n",
       "<table border=\"1\" class=\"dataframe\">\n",
       "  <thead>\n",
       "    <tr style=\"text-align: right;\">\n",
       "      <th></th>\n",
       "      <th>Fruit</th>\n",
       "      <th>Supplier</th>\n",
       "    </tr>\n",
       "  </thead>\n",
       "  <tbody>\n",
       "    <tr>\n",
       "      <th>0</th>\n",
       "      <td>Apple</td>\n",
       "      <td>Supplier A</td>\n",
       "    </tr>\n",
       "    <tr>\n",
       "      <th>1</th>\n",
       "      <td>Banana</td>\n",
       "      <td>Supplier B</td>\n",
       "    </tr>\n",
       "    <tr>\n",
       "      <th>2</th>\n",
       "      <td>Orange</td>\n",
       "      <td>Supplier C</td>\n",
       "    </tr>\n",
       "    <tr>\n",
       "      <th>3</th>\n",
       "      <td>Grapes</td>\n",
       "      <td>Supplier D</td>\n",
       "    </tr>\n",
       "    <tr>\n",
       "      <th>4</th>\n",
       "      <td>Mango</td>\n",
       "      <td>Supplier E</td>\n",
       "    </tr>\n",
       "  </tbody>\n",
       "</table>\n",
       "</div>"
      ],
      "text/plain": [
       "    Fruit    Supplier\n",
       "0   Apple  Supplier A\n",
       "1  Banana  Supplier B\n",
       "2  Orange  Supplier C\n",
       "3  Grapes  Supplier D\n",
       "4   Mango  Supplier E"
      ]
     },
     "execution_count": 65,
     "metadata": {},
     "output_type": "execute_result"
    }
   ],
   "source": [
    "fruit_store_df.drop(['Price','Stock'],axis=1)"
   ]
  },
  {
   "cell_type": "markdown",
   "metadata": {},
   "source": [
    "### C"
   ]
  },
  {
   "cell_type": "code",
   "execution_count": 69,
   "metadata": {},
   "outputs": [
    {
     "data": {
      "text/plain": [
       "0    100\n",
       "1    150\n",
       "2    120\n",
       "3     80\n",
       "4     90\n",
       "Name: Stock, dtype: int64"
      ]
     },
     "execution_count": 69,
     "metadata": {},
     "output_type": "execute_result"
    }
   ],
   "source": [
    "stock = fruit_store_df.pop('Stock')\n",
    "stock"
   ]
  }
 ],
 "metadata": {
  "kernelspec": {
   "display_name": "combine",
   "language": "python",
   "name": "python3"
  },
  "language_info": {
   "codemirror_mode": {
    "name": "ipython",
    "version": 3
   },
   "file_extension": ".py",
   "mimetype": "text/x-python",
   "name": "python",
   "nbconvert_exporter": "python",
   "pygments_lexer": "ipython3",
   "version": "3.9.18"
  }
 },
 "nbformat": 4,
 "nbformat_minor": 2
}
