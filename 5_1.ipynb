{
  "nbformat": 4,
  "nbformat_minor": 0,
  "metadata": {
    "colab": {
      "provenance": []
    },
    "kernelspec": {
      "name": "python3",
      "display_name": "Python 3"
    },
    "language_info": {
      "name": "python"
    }
  },
  "cells": [
    {
      "cell_type": "code",
      "execution_count": 3,
      "metadata": {
        "colab": {
          "base_uri": "https://localhost:8080/"
        },
        "id": "R-6XCgFCIjdo",
        "outputId": "7f247371-92ea-4ec0-d6c5-15ed017782a2"
      },
      "outputs": [
        {
          "output_type": "stream",
          "name": "stdout",
          "text": [
            "最佳預訂量 Q = 19\n",
            "平均利潤 ≈ $2,721\n",
            "超賣機率 ≈ 0.00%\n",
            "預期 lost sales ≈ 1.15 位乘客\n"
          ]
        }
      ],
      "source": [
        "# 安裝必要套件（在 Colab 中通常已內建 SciPy 與 NumPy，可視情況拿掉）\n",
        "# !pip install scipy numpy\n",
        "\n",
        "import numpy as np\n",
        "from scipy import optimize as opt\n",
        "\n",
        "# 參數：票價、座位數、顧客出現機率、賠償金\n",
        "PRICE = 150\n",
        "SEATS = 19\n",
        "P_SHOW = 0.9\n",
        "COMP_COST = 325\n",
        "\n",
        "# 講義提供的經驗需求分佈\n",
        "DEMAND_VALUES = np.arange(14, 26)          # 14 到 25\n",
        "DEMAND_PROBS  = np.array([0.03, 0.05, 0.07, 0.09, 0.11,\n",
        "                          0.15, 0.18, 0.14, 0.08, 0.05,\n",
        "                          0.03, 0.02])\n",
        "\n",
        "# 單次評估函式：回傳平均利潤、超賣機率、平均 lost sales\n",
        "def evaluate_q(q, S=50000, seed=2025):\n",
        "    rng = np.random.default_rng(seed)\n",
        "    demand = rng.choice(DEMAND_VALUES, size=S, p=DEMAND_PROBS)\n",
        "    reserved = np.minimum(demand, q)\n",
        "    # 依 reserved 數目進行二項抽樣決定實際報到人數\n",
        "    show = rng.binomial(reserved, P_SHOW)\n",
        "    # 賠償金只會在 show > 座位數時發生\n",
        "    compensation = np.clip(show - SEATS, 0, None) * COMP_COST\n",
        "    profit = PRICE * reserved - compensation\n",
        "    bump_prob = np.mean(show > SEATS)\n",
        "    lost_sales = np.mean(np.clip(demand - q, 0, None))\n",
        "    return profit.mean(), bump_prob, lost_sales\n",
        "\n",
        "# 搜尋符合「超賣機率 ≤ 5 %」且平均利潤最高的 Q\n",
        "best_q, best_profit, best_bump, best_lost = None, -1e9, None, None\n",
        "for q in range(14, 31):            # 探索 14~30 張預約\n",
        "    avg_profit, bump_prob, lost_sales = evaluate_q(q)\n",
        "    if bump_prob <= 0.05 and avg_profit > best_profit:\n",
        "        best_q, best_profit = q, avg_profit\n",
        "        best_bump, best_lost = bump_prob, lost_sales\n",
        "\n",
        "print(f\"最佳預訂量 Q = {best_q}\")\n",
        "print(f\"平均利潤 ≈ ${best_profit:,.0f}\")\n",
        "print(f\"超賣機率 ≈ {best_bump:.2%}\")\n",
        "print(f\"預期 lost sales ≈ {best_lost:.2f} 位乘客\")\n"
      ]
    }
  ]
}