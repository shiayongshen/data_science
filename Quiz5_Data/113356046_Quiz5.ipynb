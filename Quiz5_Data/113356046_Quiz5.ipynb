{
 "cells": [
  {
   "cell_type": "markdown",
   "metadata": {},
   "source": [
    "## 113356046\n",
    "----"
   ]
  },
  {
   "cell_type": "markdown",
   "metadata": {},
   "source": [
    "#### import dataset"
   ]
  },
  {
   "cell_type": "code",
   "execution_count": null,
   "metadata": {},
   "outputs": [],
   "source": [
    "import pandas as pd\n",
    "df = pd.read_csv('bank.csv', index_col=0).reset_index(drop=True)"
   ]
  },
  {
   "cell_type": "markdown",
   "metadata": {},
   "source": [
    "---"
   ]
  },
  {
   "cell_type": "markdown",
   "metadata": {},
   "source": [
    "### A"
   ]
  },
  {
   "cell_type": "code",
   "execution_count": 6,
   "metadata": {},
   "outputs": [
    {
     "name": "stdout",
     "output_type": "stream",
     "text": [
      "(45211, 17)\n",
      "<class 'pandas.core.frame.DataFrame'>\n",
      "RangeIndex: 45211 entries, 0 to 45210\n",
      "Data columns (total 17 columns):\n",
      " #   Column       Non-Null Count  Dtype \n",
      "---  ------       --------------  ----- \n",
      " 0   age          45211 non-null  int64 \n",
      " 1   job          44923 non-null  object\n",
      " 2   marital      45211 non-null  object\n",
      " 3   education    43354 non-null  object\n",
      " 4   default      45211 non-null  object\n",
      " 5   balance      45211 non-null  int64 \n",
      " 6   housing      45211 non-null  object\n",
      " 7   loan         45211 non-null  object\n",
      " 8   contact      32191 non-null  object\n",
      " 9   day_of_week  45211 non-null  int64 \n",
      " 10  month        45211 non-null  object\n",
      " 11  duration     45211 non-null  int64 \n",
      " 12  campaign     45211 non-null  int64 \n",
      " 13  pdays        45211 non-null  int64 \n",
      " 14  previous     45211 non-null  int64 \n",
      " 15  poutcome     8252 non-null   object\n",
      " 16  y            45211 non-null  object\n",
      "dtypes: int64(7), object(10)\n",
      "memory usage: 5.9+ MB\n",
      "None\n",
      "age                0\n",
      "job              288\n",
      "marital            0\n",
      "education       1857\n",
      "default            0\n",
      "balance            0\n",
      "housing            0\n",
      "loan               0\n",
      "contact        13020\n",
      "day_of_week        0\n",
      "month              0\n",
      "duration           0\n",
      "campaign           0\n",
      "pdays              0\n",
      "previous           0\n",
      "poutcome       36959\n",
      "y                  0\n",
      "dtype: int64\n",
      "(43193, 15)\n"
     ]
    }
   ],
   "source": [
    "\n",
    "print(df.shape)\n",
    "\n",
    "print(df.info())\n",
    "\n",
    "print(df.isnull().sum())\n",
    "\n",
    "df.dropna(thresh=len(df)-10000, axis=1, inplace=True)\n",
    "\n",
    "df.dropna(inplace=True)\n",
    "\n",
    "print(df.shape)"
   ]
  },
  {
   "cell_type": "markdown",
   "metadata": {},
   "source": [
    "### B"
   ]
  },
  {
   "cell_type": "code",
   "execution_count": 7,
   "metadata": {},
   "outputs": [
    {
     "data": {
      "text/html": [
       "<div>\n",
       "<style scoped>\n",
       "    .dataframe tbody tr th:only-of-type {\n",
       "        vertical-align: middle;\n",
       "    }\n",
       "\n",
       "    .dataframe tbody tr th {\n",
       "        vertical-align: top;\n",
       "    }\n",
       "\n",
       "    .dataframe thead th {\n",
       "        text-align: right;\n",
       "    }\n",
       "</style>\n",
       "<table border=\"1\" class=\"dataframe\">\n",
       "  <thead>\n",
       "    <tr style=\"text-align: right;\">\n",
       "      <th></th>\n",
       "      <th>age</th>\n",
       "      <th>balance</th>\n",
       "      <th>day_of_week</th>\n",
       "      <th>duration</th>\n",
       "      <th>campaign</th>\n",
       "      <th>pdays</th>\n",
       "      <th>previous</th>\n",
       "    </tr>\n",
       "  </thead>\n",
       "  <tbody>\n",
       "    <tr>\n",
       "      <th>count</th>\n",
       "      <td>43193.000000</td>\n",
       "      <td>43193.000000</td>\n",
       "      <td>43193.000000</td>\n",
       "      <td>43193.000000</td>\n",
       "      <td>43193.000000</td>\n",
       "      <td>43193.000000</td>\n",
       "      <td>43193.000000</td>\n",
       "    </tr>\n",
       "    <tr>\n",
       "      <th>mean</th>\n",
       "      <td>40.764082</td>\n",
       "      <td>1354.027342</td>\n",
       "      <td>15.809414</td>\n",
       "      <td>258.323409</td>\n",
       "      <td>2.758178</td>\n",
       "      <td>40.404070</td>\n",
       "      <td>0.584863</td>\n",
       "    </tr>\n",
       "    <tr>\n",
       "      <th>std</th>\n",
       "      <td>10.512640</td>\n",
       "      <td>3042.103625</td>\n",
       "      <td>8.305970</td>\n",
       "      <td>258.162006</td>\n",
       "      <td>3.063987</td>\n",
       "      <td>100.420624</td>\n",
       "      <td>2.332672</td>\n",
       "    </tr>\n",
       "    <tr>\n",
       "      <th>min</th>\n",
       "      <td>18.000000</td>\n",
       "      <td>-8019.000000</td>\n",
       "      <td>1.000000</td>\n",
       "      <td>0.000000</td>\n",
       "      <td>1.000000</td>\n",
       "      <td>-1.000000</td>\n",
       "      <td>0.000000</td>\n",
       "    </tr>\n",
       "    <tr>\n",
       "      <th>25%</th>\n",
       "      <td>33.000000</td>\n",
       "      <td>71.000000</td>\n",
       "      <td>8.000000</td>\n",
       "      <td>103.000000</td>\n",
       "      <td>1.000000</td>\n",
       "      <td>-1.000000</td>\n",
       "      <td>0.000000</td>\n",
       "    </tr>\n",
       "    <tr>\n",
       "      <th>50%</th>\n",
       "      <td>39.000000</td>\n",
       "      <td>442.000000</td>\n",
       "      <td>16.000000</td>\n",
       "      <td>180.000000</td>\n",
       "      <td>2.000000</td>\n",
       "      <td>-1.000000</td>\n",
       "      <td>0.000000</td>\n",
       "    </tr>\n",
       "    <tr>\n",
       "      <th>75%</th>\n",
       "      <td>48.000000</td>\n",
       "      <td>1412.000000</td>\n",
       "      <td>21.000000</td>\n",
       "      <td>318.000000</td>\n",
       "      <td>3.000000</td>\n",
       "      <td>-1.000000</td>\n",
       "      <td>0.000000</td>\n",
       "    </tr>\n",
       "    <tr>\n",
       "      <th>max</th>\n",
       "      <td>95.000000</td>\n",
       "      <td>102127.000000</td>\n",
       "      <td>31.000000</td>\n",
       "      <td>4918.000000</td>\n",
       "      <td>58.000000</td>\n",
       "      <td>871.000000</td>\n",
       "      <td>275.000000</td>\n",
       "    </tr>\n",
       "  </tbody>\n",
       "</table>\n",
       "</div>"
      ],
      "text/plain": [
       "                age        balance   day_of_week      duration      campaign  \\\n",
       "count  43193.000000   43193.000000  43193.000000  43193.000000  43193.000000   \n",
       "mean      40.764082    1354.027342     15.809414    258.323409      2.758178   \n",
       "std       10.512640    3042.103625      8.305970    258.162006      3.063987   \n",
       "min       18.000000   -8019.000000      1.000000      0.000000      1.000000   \n",
       "25%       33.000000      71.000000      8.000000    103.000000      1.000000   \n",
       "50%       39.000000     442.000000     16.000000    180.000000      2.000000   \n",
       "75%       48.000000    1412.000000     21.000000    318.000000      3.000000   \n",
       "max       95.000000  102127.000000     31.000000   4918.000000     58.000000   \n",
       "\n",
       "              pdays      previous  \n",
       "count  43193.000000  43193.000000  \n",
       "mean      40.404070      0.584863  \n",
       "std      100.420624      2.332672  \n",
       "min       -1.000000      0.000000  \n",
       "25%       -1.000000      0.000000  \n",
       "50%       -1.000000      0.000000  \n",
       "75%       -1.000000      0.000000  \n",
       "max      871.000000    275.000000  "
      ]
     },
     "execution_count": 7,
     "metadata": {},
     "output_type": "execute_result"
    }
   ],
   "source": [
    "df.describe()"
   ]
  },
  {
   "cell_type": "markdown",
   "metadata": {},
   "source": [
    "### C"
   ]
  },
  {
   "cell_type": "markdown",
   "metadata": {},
   "source": [
    "#### 1"
   ]
  },
  {
   "cell_type": "code",
   "execution_count": null,
   "metadata": {},
   "outputs": [
    {
     "name": "stdout",
     "output_type": "stream",
     "text": [
      "job\n",
      "retired          2010.909091\n",
      "management       1767.004883\n",
      "self-employed    1649.973377\n",
      "unemployed       1521.730769\n",
      "entrepreneur     1519.729270\n",
      "student          1369.760000\n",
      "housemaid        1334.142259\n",
      "technician       1235.993746\n",
      "admin.           1119.939200\n",
      "blue-collar      1080.684954\n",
      "services          971.407343\n",
      "Name: balance, dtype: float64\n"
     ]
    }
   ],
   "source": [
    "avg_balance = df.groupby('job')['balance'].mean().sort_values(ascending=False)\n",
    "print(avg_balance)"
   ]
  },
  {
   "cell_type": "markdown",
   "metadata": {},
   "source": [
    "#### 2"
   ]
  },
  {
   "cell_type": "code",
   "execution_count": null,
   "metadata": {},
   "outputs": [
    {
     "name": "stdout",
     "output_type": "stream",
     "text": [
      "age               18          19          20          21          22  \\\n",
      "job                                                                    \n",
      "admin.           NaN         NaN  104.000000  203.500000  261.357143   \n",
      "blue-collar      NaN         NaN  391.250000  186.428571  256.666667   \n",
      "entrepreneur     NaN         NaN         NaN  323.000000         NaN   \n",
      "housemaid        NaN         NaN         NaN         NaN  275.000000   \n",
      "management       NaN         NaN         NaN  200.000000  214.500000   \n",
      "retired          NaN         NaN         NaN         NaN         NaN   \n",
      "self-employed    NaN         NaN         NaN         NaN  218.000000   \n",
      "services         NaN         NaN  180.000000  237.750000  158.235294   \n",
      "student        208.0  171.269231  197.642857  232.717949  248.150943   \n",
      "technician       NaN         NaN         NaN   54.000000  298.625000   \n",
      "unemployed       NaN         NaN         NaN  167.666667  115.000000   \n",
      "\n",
      "age                    23          24          25          26          27  \\\n",
      "job                                                                         \n",
      "admin.         251.160000  212.113636  261.402985  261.518519  264.187050   \n",
      "blue-collar    332.605263  293.183099  338.234783  292.394444  290.388571   \n",
      "entrepreneur   235.666667   35.000000  244.000000  469.647059  250.631579   \n",
      "housemaid      486.750000         NaN  367.000000  206.428571  136.818182   \n",
      "management     250.000000  380.263158  287.164179  302.412844  271.732824   \n",
      "retired               NaN  234.000000  102.000000  308.000000         NaN   \n",
      "self-employed  393.000000  298.666667  321.363636  216.032258  260.800000   \n",
      "services       311.484848  390.555556  238.000000  265.734043  273.400000   \n",
      "student        286.092593  262.524590  276.594595  221.689655  250.636364   \n",
      "technician     284.476190  289.733333  292.135135  360.200000  325.234899   \n",
      "unemployed     245.500000  161.142857  225.545455  326.214286  227.322581   \n",
      "\n",
      "age            ...          83     84      85       86      87     88     89  \\\n",
      "job            ...                                                             \n",
      "admin.         ...         NaN    NaN     NaN      NaN     NaN    NaN    NaN   \n",
      "blue-collar    ...         NaN    NaN     NaN      NaN     NaN    NaN    NaN   \n",
      "entrepreneur   ...         NaN  992.0     NaN      NaN     NaN    NaN    NaN   \n",
      "housemaid      ...  154.500000    NaN     NaN      NaN     NaN    NaN    NaN   \n",
      "management     ...         NaN    NaN     NaN      NaN     NaN    NaN    NaN   \n",
      "retired        ...  408.631579  416.5  292.25  294.875  388.75  239.5  797.0   \n",
      "self-employed  ...         NaN    NaN     NaN      NaN     NaN    NaN    NaN   \n",
      "services       ...         NaN    NaN     NaN      NaN     NaN    NaN    NaN   \n",
      "student        ...         NaN    NaN     NaN      NaN     NaN    NaN    NaN   \n",
      "technician     ...         NaN    NaN     NaN      NaN     NaN    NaN    NaN   \n",
      "unemployed     ...         NaN    NaN     NaN      NaN     NaN    NaN    NaN   \n",
      "\n",
      "age               90     94     95  \n",
      "job                                 \n",
      "admin.           NaN    NaN    NaN  \n",
      "blue-collar      NaN    NaN    NaN  \n",
      "entrepreneur     NaN    NaN    NaN  \n",
      "housemaid        NaN    NaN    NaN  \n",
      "management       NaN    NaN    NaN  \n",
      "retired        354.5  212.0  211.0  \n",
      "self-employed    NaN    NaN    NaN  \n",
      "services         NaN    NaN    NaN  \n",
      "student          NaN    NaN    NaN  \n",
      "technician       NaN    NaN    NaN  \n",
      "unemployed       NaN    NaN    NaN  \n",
      "\n",
      "[11 rows x 75 columns]\n"
     ]
    }
   ],
   "source": [
    "avg_duration = df.pivot_table(values='duration', index='job', columns='age', aggfunc='mean')\n",
    "\n",
    "print(avg_duration)"
   ]
  },
  {
   "cell_type": "markdown",
   "metadata": {},
   "source": [
    "#### 3"
   ]
  },
  {
   "cell_type": "code",
   "execution_count": 13,
   "metadata": {},
   "outputs": [
    {
     "name": "stdout",
     "output_type": "stream",
     "text": [
      "                job variable  value\n",
      "0        management      age     58\n",
      "1        technician      age     44\n",
      "2      entrepreneur      age     33\n",
      "3        management      age     35\n",
      "4        management      age     28\n",
      "...             ...      ...    ...\n",
      "86381    technician  balance    825\n",
      "86382       retired  balance   1729\n",
      "86383       retired  balance   5715\n",
      "86384   blue-collar  balance    668\n",
      "86385  entrepreneur  balance   2971\n",
      "\n",
      "[86386 rows x 3 columns]\n"
     ]
    }
   ],
   "source": [
    "long_format = pd.melt(df, id_vars=['job'], value_vars=['age', 'balance'], \n",
    "                      var_name='variable', value_name='value')\n",
    "\n",
    "print(long_format)"
   ]
  },
  {
   "cell_type": "markdown",
   "metadata": {},
   "source": [
    "#### 4"
   ]
  },
  {
   "cell_type": "code",
   "execution_count": 14,
   "metadata": {},
   "outputs": [
    {
     "name": "stdout",
     "output_type": "stream",
     "text": [
      "marital        divorced  married  single\n",
      "job                                     \n",
      "admin.              732     2586    1682\n",
      "blue-collar         711     6652    1915\n",
      "entrepreneur        173     1012     226\n",
      "housemaid           178      879     138\n",
      "management         1080     5239    2897\n",
      "retired             412     1630     103\n",
      "self-employed       139      970     431\n",
      "services            528     2313    1163\n",
      "student               5       44     726\n",
      "technician          900     3906    2549\n",
      "unemployed          170      715     389\n"
     ]
    }
   ],
   "source": [
    "cross_tab = pd.crosstab(df['job'], df['marital'])\n",
    "\n",
    "print(cross_tab)"
   ]
  },
  {
   "cell_type": "markdown",
   "metadata": {},
   "source": [
    "#### 5"
   ]
  },
  {
   "cell_type": "code",
   "execution_count": null,
   "metadata": {},
   "outputs": [
    {
     "name": "stdout",
     "output_type": "stream",
     "text": [
      "                  age   balance  day_of_week  duration  campaign     pdays  \\\n",
      "age          1.000000  0.097602    -0.008451 -0.004953  0.004050 -0.023248   \n",
      "balance      0.097602  1.000000     0.004118  0.020051 -0.016251  0.003928   \n",
      "day_of_week -0.008451  0.004118     1.000000 -0.030074  0.164982 -0.094343   \n",
      "duration    -0.004953  0.020051    -0.030074  1.000000 -0.083118 -0.002403   \n",
      "campaign     0.004050 -0.016251     0.164982 -0.083118  1.000000 -0.088920   \n",
      "pdays       -0.023248  0.003928    -0.094343 -0.002403 -0.088920  1.000000   \n",
      "previous     0.001099  0.016564    -0.052053  0.000295 -0.032381  0.452953   \n",
      "\n",
      "             previous  \n",
      "age          0.001099  \n",
      "balance      0.016564  \n",
      "day_of_week -0.052053  \n",
      "duration     0.000295  \n",
      "campaign    -0.032381  \n",
      "pdays        0.452953  \n",
      "previous     1.000000  \n"
     ]
    }
   ],
   "source": [
    "numeric_df = df.select_dtypes(include=['number'])\n",
    "\n",
    "correlation_matrix = numeric_df.corr()\n",
    "\n",
    "print(correlation_matrix)"
   ]
  },
  {
   "cell_type": "markdown",
   "metadata": {},
   "source": [
    "#### 6"
   ]
  },
  {
   "cell_type": "code",
   "execution_count": 17,
   "metadata": {},
   "outputs": [
    {
     "name": "stdout",
     "output_type": "stream",
     "text": [
      "   balance Balance_Category\n",
      "0     2143           Medium\n",
      "1       29              Low\n",
      "2        2              Low\n",
      "5      231              Low\n",
      "6      447              Low\n"
     ]
    }
   ],
   "source": [
    "df['Balance_Category'] = pd.cut(\n",
    "    df['balance'],\n",
    "    bins=[-float('inf'), 1000, 5000, float('inf')],\n",
    "    labels=['Low', 'Medium', 'High']\n",
    ")\n",
    "\n",
    "print(df[['balance', 'Balance_Category']].head())"
   ]
  },
  {
   "cell_type": "markdown",
   "metadata": {},
   "source": [
    "#### 7"
   ]
  },
  {
   "cell_type": "code",
   "execution_count": 18,
   "metadata": {},
   "outputs": [
    {
     "name": "stdout",
     "output_type": "stream",
     "text": [
      "Balance_Category 的頻率分佈：\n",
      "Balance_Category\n",
      "Low       29284\n",
      "Medium    11213\n",
      "High       2696\n",
      "Name: count, dtype: int64\n",
      "\n",
      "y (poutcome) 的頻率分佈：\n",
      "y\n",
      "no     38172\n",
      "yes     5021\n",
      "Name: count, dtype: int64\n"
     ]
    }
   ],
   "source": [
    "balance_category_freq = df['Balance_Category'].value_counts()\n",
    "\n",
    "poutcome_freq = df['y'].value_counts() \n",
    "\n",
    "print(\"Balance_Category 的頻率分佈：\")\n",
    "print(balance_category_freq)\n",
    "\n",
    "print(\"\\ny (poutcome) 的頻率分佈：\")\n",
    "print(poutcome_freq)"
   ]
  }
 ],
 "metadata": {
  "kernelspec": {
   "display_name": "combine",
   "language": "python",
   "name": "python3"
  },
  "language_info": {
   "codemirror_mode": {
    "name": "ipython",
    "version": 3
   },
   "file_extension": ".py",
   "mimetype": "text/x-python",
   "name": "python",
   "nbconvert_exporter": "python",
   "pygments_lexer": "ipython3",
   "version": "3.9.18"
  }
 },
 "nbformat": 4,
 "nbformat_minor": 2
}
